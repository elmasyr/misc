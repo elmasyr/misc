{
 "cells": [
  {
   "cell_type": "markdown",
   "metadata": {},
   "source": [
    "# Export open text field into Excel for easy coding\n",
    "\n",
    "This set of scripts reads sentences (+sources) from one Excel file (datafile.xlsx), retrieves the already coded data from coding Excel file (text_codes.xlsx), updates/exports all unique sentence text fields to the coding Excel file (text_codes.xlsx), without touching the existing coding. <br><br>\n",
    "The preformatted output Excel sheet is designed for easy use; with existing freeze panes, filtering and printing setup, the free text and entered codes can be ordered, filtered and checked conviniently. The formatting and the codes stay in the Excel sheet even when new data is added with the script below.<br><br>\n",
    "Target is that one can code the text fields into categories for further processing, and possible retrieval for further analysis.<br><br>\n",
    "<b>Input:</b>\n",
    "- datafile.xlsx (sheet: rdntext, source) -- random texts with source information\n",
    "- text_codes.xlsx (sheet 'coding': rdmtext, code01, code02; sheet 'metadata': list of unique sources)\n",
    "\n",
    "<b>Output:</b>\n",
    "- text_codes.xlsx (sheet 'coding': rdmtext, code01, code02; sheet 'metadata': list of unique sources); <br>\n",
    "sheet 'coding' with filtering and freeze pain, no duplicates, page and printing setup"
   ]
  },
  {
   "cell_type": "markdown",
   "metadata": {},
   "source": [
    "# Import libraries"
   ]
  },
  {
   "cell_type": "code",
   "execution_count": 1,
   "metadata": {
    "collapsed": true
   },
   "outputs": [],
   "source": [
    "import pandas as pd"
   ]
  },
  {
   "cell_type": "markdown",
   "metadata": {},
   "source": [
    "# Read generated texts"
   ]
  },
  {
   "cell_type": "code",
   "execution_count": 2,
   "metadata": {},
   "outputs": [
    {
     "data": {
      "text/plain": [
       "(115, 2)"
      ]
     },
     "execution_count": 2,
     "metadata": {},
     "output_type": "execute_result"
    }
   ],
   "source": [
    "'''Read the files'''\n",
    "newfile = 'datafile.xlsx'\n",
    "df1 = pd.read_excel(newfile, header=0)\n",
    "df1.shape"
   ]
  },
  {
   "cell_type": "code",
   "execution_count": 3,
   "metadata": {},
   "outputs": [
    {
     "data": {
      "text/html": [
       "<div>\n",
       "<style>\n",
       "    .dataframe thead tr:only-child th {\n",
       "        text-align: right;\n",
       "    }\n",
       "\n",
       "    .dataframe thead th {\n",
       "        text-align: left;\n",
       "    }\n",
       "\n",
       "    .dataframe tbody tr th {\n",
       "        vertical-align: top;\n",
       "    }\n",
       "</style>\n",
       "<table border=\"1\" class=\"dataframe\">\n",
       "  <thead>\n",
       "    <tr style=\"text-align: right;\">\n",
       "      <th></th>\n",
       "      <th>rdmtext</th>\n",
       "      <th>source</th>\n",
       "    </tr>\n",
       "  </thead>\n",
       "  <tbody>\n",
       "    <tr>\n",
       "      <th>60</th>\n",
       "      <td>Takaa sekin annat et oikea jo tieda silta.</td>\n",
       "      <td>src01</td>\n",
       "    </tr>\n",
       "    <tr>\n",
       "      <th>104</th>\n",
       "      <td>Korjannut lipullaan ole tee toi vavahtaen jaa ...</td>\n",
       "      <td>scr05</td>\n",
       "    </tr>\n",
       "    <tr>\n",
       "      <th>92</th>\n",
       "      <td>Kun purjeeton pienoinen tuo aitisikin ota jai ...</td>\n",
       "      <td>scr03</td>\n",
       "    </tr>\n",
       "    <tr>\n",
       "      <th>99</th>\n",
       "      <td>Han jalasta leveana jaa silloin.</td>\n",
       "      <td>scr04</td>\n",
       "    </tr>\n",
       "    <tr>\n",
       "      <th>108</th>\n",
       "      <td>Kaataa heinia toista jos nyt.</td>\n",
       "      <td>scr05</td>\n",
       "    </tr>\n",
       "  </tbody>\n",
       "</table>\n",
       "</div>"
      ],
      "text/plain": [
       "                                               rdmtext source\n",
       "60          Takaa sekin annat et oikea jo tieda silta.  src01\n",
       "104  Korjannut lipullaan ole tee toi vavahtaen jaa ...  scr05\n",
       "92   Kun purjeeton pienoinen tuo aitisikin ota jai ...  scr03\n",
       "99                    Han jalasta leveana jaa silloin.  scr04\n",
       "108                      Kaataa heinia toista jos nyt.  scr05"
      ]
     },
     "execution_count": 3,
     "metadata": {},
     "output_type": "execute_result"
    }
   ],
   "source": [
    "# glimpse of unique pacomms\n",
    "df1[(df1.rdmtext.duplicated(keep=False))&(~df1.rdmtext.isnull())].sample(5)"
   ]
  },
  {
   "cell_type": "markdown",
   "metadata": {},
   "source": [
    "# Read the existing Excel coding file"
   ]
  },
  {
   "cell_type": "code",
   "execution_count": 4,
   "metadata": {},
   "outputs": [
    {
     "data": {
      "text/plain": [
       "(73, 3)"
      ]
     },
     "execution_count": 4,
     "metadata": {},
     "output_type": "execute_result"
    }
   ],
   "source": [
    "'''Read the file with all CRF data from CRF3'''\n",
    "oldfile =  'text_codes.xlsx'\n",
    "df2 = pd.read_excel(oldfile, 'coding',header=0)\n",
    "df2.shape"
   ]
  },
  {
   "cell_type": "code",
   "execution_count": 5,
   "metadata": {},
   "outputs": [
    {
     "data": {
      "text/html": [
       "<div>\n",
       "<style>\n",
       "    .dataframe thead tr:only-child th {\n",
       "        text-align: right;\n",
       "    }\n",
       "\n",
       "    .dataframe thead th {\n",
       "        text-align: left;\n",
       "    }\n",
       "\n",
       "    .dataframe tbody tr th {\n",
       "        vertical-align: top;\n",
       "    }\n",
       "</style>\n",
       "<table border=\"1\" class=\"dataframe\">\n",
       "  <thead>\n",
       "    <tr style=\"text-align: right;\">\n",
       "      <th></th>\n",
       "      <th>rdmtext</th>\n",
       "      <th>code01</th>\n",
       "      <th>code02</th>\n",
       "    </tr>\n",
       "  </thead>\n",
       "  <tbody>\n",
       "    <tr>\n",
       "      <th>56</th>\n",
       "      <td>Ristiin jai tai voi kykenee pistaen jauhoja to...</td>\n",
       "      <td>ne</td>\n",
       "      <td>NaN</td>\n",
       "    </tr>\n",
       "    <tr>\n",
       "      <th>45</th>\n",
       "      <td>Vei puheenaihe mielellaan puutavaraa ole tuo p...</td>\n",
       "      <td>NaN</td>\n",
       "      <td>NaN</td>\n",
       "    </tr>\n",
       "    <tr>\n",
       "      <th>38</th>\n",
       "      <td>On hiljainen semmoisia ne raastavat ylpeammin ...</td>\n",
       "      <td>ne</td>\n",
       "      <td>NaN</td>\n",
       "    </tr>\n",
       "    <tr>\n",
       "      <th>7</th>\n",
       "      <td>Roisto toivoa kun takana littea lintua vasten ...</td>\n",
       "      <td>te</td>\n",
       "      <td>NaN</td>\n",
       "    </tr>\n",
       "    <tr>\n",
       "      <th>20</th>\n",
       "      <td>Kun tosissaan haaveensa oma ainaisena.</td>\n",
       "      <td>NaN</td>\n",
       "      <td>NaN</td>\n",
       "    </tr>\n",
       "  </tbody>\n",
       "</table>\n",
       "</div>"
      ],
      "text/plain": [
       "                                              rdmtext code01 code02\n",
       "56  Ristiin jai tai voi kykenee pistaen jauhoja to...     ne    NaN\n",
       "45  Vei puheenaihe mielellaan puutavaraa ole tuo p...    NaN    NaN\n",
       "38  On hiljainen semmoisia ne raastavat ylpeammin ...     ne    NaN\n",
       "7   Roisto toivoa kun takana littea lintua vasten ...     te    NaN\n",
       "20             Kun tosissaan haaveensa oma ainaisena.    NaN    NaN"
      ]
     },
     "execution_count": 5,
     "metadata": {},
     "output_type": "execute_result"
    }
   ],
   "source": [
    "df2.sample(5)"
   ]
  },
  {
   "cell_type": "code",
   "execution_count": 6,
   "metadata": {},
   "outputs": [
    {
     "data": {
      "text/plain": [
       "(5, array(['src01', 'src02', 'scr03', 'scr04', 'scr05'], dtype=object))"
      ]
     },
     "execution_count": 6,
     "metadata": {},
     "output_type": "execute_result"
    }
   ],
   "source": [
    "# amount and list of subjects\n",
    "len(df1.source.unique()), df1.source.unique()"
   ]
  },
  {
   "cell_type": "markdown",
   "metadata": {},
   "source": [
    "## Temp file"
   ]
  },
  {
   "cell_type": "code",
   "execution_count": 7,
   "metadata": {},
   "outputs": [],
   "source": [
    "'''New dataset, with irrelevant open text fields ignored'''\n",
    "srcs = [i for i in df1.source.unique()]\n",
    "df_temp = df1.loc[(~df1.rdmtext.isin([i for i in df2.rdmtext]))&\n",
    "                  (df1.source.isin(srcs))&\n",
    "                  (~df1.rdmtext.isin(['Pappi lie koyha jos rikas yha hahah.']))]"
   ]
  },
  {
   "cell_type": "code",
   "execution_count": 8,
   "metadata": {},
   "outputs": [
    {
     "data": {
      "text/html": [
       "<div>\n",
       "<style>\n",
       "    .dataframe thead tr:only-child th {\n",
       "        text-align: right;\n",
       "    }\n",
       "\n",
       "    .dataframe thead th {\n",
       "        text-align: left;\n",
       "    }\n",
       "\n",
       "    .dataframe tbody tr th {\n",
       "        vertical-align: top;\n",
       "    }\n",
       "</style>\n",
       "<table border=\"1\" class=\"dataframe\">\n",
       "  <thead>\n",
       "    <tr style=\"text-align: right;\">\n",
       "      <th></th>\n",
       "      <th>rdmtext</th>\n",
       "      <th>source</th>\n",
       "    </tr>\n",
       "  </thead>\n",
       "  <tbody>\n",
       "    <tr>\n",
       "      <th>106</th>\n",
       "      <td>Ei hanella ai he rantaan peralla te puhalsi.</td>\n",
       "      <td>scr05</td>\n",
       "    </tr>\n",
       "    <tr>\n",
       "      <th>107</th>\n",
       "      <td>Ja on lyhtyja ajaapas repeisi nokkaan on.</td>\n",
       "      <td>scr05</td>\n",
       "    </tr>\n",
       "    <tr>\n",
       "      <th>108</th>\n",
       "      <td>Kaataa heinia toista jos nyt.</td>\n",
       "      <td>scr05</td>\n",
       "    </tr>\n",
       "    <tr>\n",
       "      <th>109</th>\n",
       "      <td>Korjannut lipullaan ole tee toi vavahtaen jaa ...</td>\n",
       "      <td>scr05</td>\n",
       "    </tr>\n",
       "    <tr>\n",
       "      <th>110</th>\n",
       "      <td>Saaliin odottaa kai pitaisi tulevan eli kulloin.</td>\n",
       "      <td>scr05</td>\n",
       "    </tr>\n",
       "  </tbody>\n",
       "</table>\n",
       "</div>"
      ],
      "text/plain": [
       "                                               rdmtext source\n",
       "106       Ei hanella ai he rantaan peralla te puhalsi.  scr05\n",
       "107          Ja on lyhtyja ajaapas repeisi nokkaan on.  scr05\n",
       "108                      Kaataa heinia toista jos nyt.  scr05\n",
       "109  Korjannut lipullaan ole tee toi vavahtaen jaa ...  scr05\n",
       "110   Saaliin odottaa kai pitaisi tulevan eli kulloin.  scr05"
      ]
     },
     "execution_count": 8,
     "metadata": {},
     "output_type": "execute_result"
    }
   ],
   "source": [
    "df_temp.tail()"
   ]
  },
  {
   "cell_type": "markdown",
   "metadata": {},
   "source": [
    "# Combine existing and new data"
   ]
  },
  {
   "cell_type": "code",
   "execution_count": 9,
   "metadata": {
    "collapsed": true
   },
   "outputs": [],
   "source": [
    "# create new data frame\n",
    "df_all = pd.DataFrame(columns=df2.columns)"
   ]
  },
  {
   "cell_type": "code",
   "execution_count": 10,
   "metadata": {
    "collapsed": true
   },
   "outputs": [],
   "source": [
    "# new data from pacomm field only\n",
    "df_all.rdmtext = df_temp.rdmtext.dropna()"
   ]
  },
  {
   "cell_type": "code",
   "execution_count": 11,
   "metadata": {
    "collapsed": true
   },
   "outputs": [],
   "source": [
    "# merge existing coding data\n",
    "df_all = pd.concat([df2, df_all], axis=0)"
   ]
  },
  {
   "cell_type": "code",
   "execution_count": 12,
   "metadata": {},
   "outputs": [
    {
     "data": {
      "text/plain": [
       "(73, 40, 113)"
      ]
     },
     "execution_count": 12,
     "metadata": {},
     "output_type": "execute_result"
    }
   ],
   "source": [
    "# check: unique rdmtext only, duplicates only, all\n",
    "len(df_all[~df_all.rdmtext.duplicated(keep=False)]), len(df_all[df_all.rdmtext.duplicated(keep=False)]), len(df_all)"
   ]
  },
  {
   "cell_type": "code",
   "execution_count": 13,
   "metadata": {},
   "outputs": [
    {
     "data": {
      "text/html": [
       "<div>\n",
       "<style>\n",
       "    .dataframe thead tr:only-child th {\n",
       "        text-align: right;\n",
       "    }\n",
       "\n",
       "    .dataframe thead th {\n",
       "        text-align: left;\n",
       "    }\n",
       "\n",
       "    .dataframe tbody tr th {\n",
       "        vertical-align: top;\n",
       "    }\n",
       "</style>\n",
       "<table border=\"1\" class=\"dataframe\">\n",
       "  <thead>\n",
       "    <tr style=\"text-align: right;\">\n",
       "      <th></th>\n",
       "      <th>rdmtext</th>\n",
       "      <th>code01</th>\n",
       "      <th>code02</th>\n",
       "    </tr>\n",
       "  </thead>\n",
       "  <tbody>\n",
       "    <tr>\n",
       "      <th>0</th>\n",
       "      <td>Me ja mukaan ai no matkaa nahnyt.</td>\n",
       "      <td>me</td>\n",
       "      <td>nähnyt</td>\n",
       "    </tr>\n",
       "    <tr>\n",
       "      <th>1</th>\n",
       "      <td>Nyt ukkovaari ehtymatta semmoista tassakaan ke...</td>\n",
       "      <td>ukkovaari</td>\n",
       "      <td>eli</td>\n",
       "    </tr>\n",
       "    <tr>\n",
       "      <th>2</th>\n",
       "      <td>Ne en ryypannyt tassakaan tervehtii.</td>\n",
       "      <td>ne</td>\n",
       "      <td>NaN</td>\n",
       "    </tr>\n",
       "    <tr>\n",
       "      <th>3</th>\n",
       "      <td>Semmoisia ihmisilla vielakaan te on seitsemia ...</td>\n",
       "      <td>te</td>\n",
       "      <td>NaN</td>\n",
       "    </tr>\n",
       "    <tr>\n",
       "      <th>4</th>\n",
       "      <td>Ja seka mita puhe on te.</td>\n",
       "      <td>te</td>\n",
       "      <td>NaN</td>\n",
       "    </tr>\n",
       "  </tbody>\n",
       "</table>\n",
       "</div>"
      ],
      "text/plain": [
       "                                             rdmtext     code01  code02\n",
       "0                  Me ja mukaan ai no matkaa nahnyt.         me  nähnyt\n",
       "1  Nyt ukkovaari ehtymatta semmoista tassakaan ke...  ukkovaari     eli\n",
       "2               Ne en ryypannyt tassakaan tervehtii.         ne     NaN\n",
       "3  Semmoisia ihmisilla vielakaan te on seitsemia ...         te     NaN\n",
       "4                           Ja seka mita puhe on te.         te     NaN"
      ]
     },
     "execution_count": 13,
     "metadata": {},
     "output_type": "execute_result"
    }
   ],
   "source": [
    "# check: unique rdmtext only\n",
    "df_all[~df_all.rdmtext.duplicated(keep=False)].head(5)"
   ]
  },
  {
   "cell_type": "code",
   "execution_count": 14,
   "metadata": {},
   "outputs": [
    {
     "data": {
      "text/html": [
       "<div>\n",
       "<style>\n",
       "    .dataframe thead tr:only-child th {\n",
       "        text-align: right;\n",
       "    }\n",
       "\n",
       "    .dataframe thead th {\n",
       "        text-align: left;\n",
       "    }\n",
       "\n",
       "    .dataframe tbody tr th {\n",
       "        vertical-align: top;\n",
       "    }\n",
       "</style>\n",
       "<table border=\"1\" class=\"dataframe\">\n",
       "  <thead>\n",
       "    <tr style=\"text-align: right;\">\n",
       "      <th></th>\n",
       "      <th>rdmtext</th>\n",
       "      <th>code01</th>\n",
       "      <th>code02</th>\n",
       "    </tr>\n",
       "  </thead>\n",
       "  <tbody>\n",
       "    <tr>\n",
       "      <th>8</th>\n",
       "      <td>Iso ota mokottaa jos lekkerin poydalta kuuluvat.</td>\n",
       "      <td>NaN</td>\n",
       "      <td>NaN</td>\n",
       "    </tr>\n",
       "    <tr>\n",
       "      <th>9</th>\n",
       "      <td>Yha kahvipannu lahetakaan varmaankin valahtiva...</td>\n",
       "      <td>NaN</td>\n",
       "      <td>NaN</td>\n",
       "    </tr>\n",
       "    <tr>\n",
       "      <th>15</th>\n",
       "      <td>Ajautua voi ole iso pitkana jostain han.</td>\n",
       "      <td>NaN</td>\n",
       "      <td>NaN</td>\n",
       "    </tr>\n",
       "    <tr>\n",
       "      <th>18</th>\n",
       "      <td>Kulti liene hanet se jatti pilan jonka en.</td>\n",
       "      <td>NaN</td>\n",
       "      <td>NaN</td>\n",
       "    </tr>\n",
       "    <tr>\n",
       "      <th>25</th>\n",
       "      <td>Ai se ottaisit rukoilen kullakin saastaen.</td>\n",
       "      <td>NaN</td>\n",
       "      <td>NaN</td>\n",
       "    </tr>\n",
       "  </tbody>\n",
       "</table>\n",
       "</div>"
      ],
      "text/plain": [
       "                                              rdmtext code01 code02\n",
       "8    Iso ota mokottaa jos lekkerin poydalta kuuluvat.    NaN    NaN\n",
       "9   Yha kahvipannu lahetakaan varmaankin valahtiva...    NaN    NaN\n",
       "15           Ajautua voi ole iso pitkana jostain han.    NaN    NaN\n",
       "18         Kulti liene hanet se jatti pilan jonka en.    NaN    NaN\n",
       "25         Ai se ottaisit rukoilen kullakin saastaen.    NaN    NaN"
      ]
     },
     "execution_count": 14,
     "metadata": {},
     "output_type": "execute_result"
    }
   ],
   "source": [
    "# check: duplicate rdmtext only\n",
    "df_all[df_all.rdmtext.duplicated(keep=False)].head(5)"
   ]
  },
  {
   "cell_type": "code",
   "execution_count": 15,
   "metadata": {},
   "outputs": [
    {
     "data": {
      "text/html": [
       "<div>\n",
       "<style>\n",
       "    .dataframe thead tr:only-child th {\n",
       "        text-align: right;\n",
       "    }\n",
       "\n",
       "    .dataframe thead th {\n",
       "        text-align: left;\n",
       "    }\n",
       "\n",
       "    .dataframe tbody tr th {\n",
       "        vertical-align: top;\n",
       "    }\n",
       "</style>\n",
       "<table border=\"1\" class=\"dataframe\">\n",
       "  <thead>\n",
       "    <tr style=\"text-align: right;\">\n",
       "      <th></th>\n",
       "      <th>rdmtext</th>\n",
       "      <th>code01</th>\n",
       "      <th>code02</th>\n",
       "    </tr>\n",
       "  </thead>\n",
       "  <tbody>\n",
       "    <tr>\n",
       "      <th>78</th>\n",
       "      <td>Ai se ottaisit rukoilen kullakin saastaen.</td>\n",
       "      <td>NaN</td>\n",
       "      <td>NaN</td>\n",
       "    </tr>\n",
       "    <tr>\n",
       "      <th>72</th>\n",
       "      <td>Seinaa ota kay hyvina paljon taivas hauska.</td>\n",
       "      <td>NaN</td>\n",
       "      <td>NaN</td>\n",
       "    </tr>\n",
       "    <tr>\n",
       "      <th>5</th>\n",
       "      <td>Ai ne oikeastaan rukoukseni ja me hyvastinsa.</td>\n",
       "      <td>ne</td>\n",
       "      <td>NaN</td>\n",
       "    </tr>\n",
       "    <tr>\n",
       "      <th>49</th>\n",
       "      <td>Takaa sekin annat et oikea jo tieda silta.</td>\n",
       "      <td>NaN</td>\n",
       "      <td>NaN</td>\n",
       "    </tr>\n",
       "    <tr>\n",
       "      <th>86</th>\n",
       "      <td>Et antautuen torpparit toivotaan asiakseen aja...</td>\n",
       "      <td>NaN</td>\n",
       "      <td>NaN</td>\n",
       "    </tr>\n",
       "  </tbody>\n",
       "</table>\n",
       "</div>"
      ],
      "text/plain": [
       "                                              rdmtext code01 code02\n",
       "78         Ai se ottaisit rukoilen kullakin saastaen.    NaN    NaN\n",
       "72        Seinaa ota kay hyvina paljon taivas hauska.    NaN    NaN\n",
       "5       Ai ne oikeastaan rukoukseni ja me hyvastinsa.     ne    NaN\n",
       "49         Takaa sekin annat et oikea jo tieda silta.    NaN    NaN\n",
       "86  Et antautuen torpparit toivotaan asiakseen aja...    NaN    NaN"
      ]
     },
     "execution_count": 15,
     "metadata": {},
     "output_type": "execute_result"
    }
   ],
   "source": [
    "# check: all data\n",
    "df_all.sample(5)"
   ]
  },
  {
   "cell_type": "code",
   "execution_count": 16,
   "metadata": {
    "collapsed": true
   },
   "outputs": [],
   "source": [
    "'''Refs for the used functionalities'''\n",
    "# http://xlsxwriter.readthedocs.io/example_pandas_column_formats.html\n",
    "# https://xlsxwriter.readthedocs.io/working_with_autofilters.html\n",
    "# http://xlsxwriter.readthedocs.io/example_panes.html\n",
    "# http://xlsxwriter.readthedocs.io/page_setup.html\n",
    "# http://xlsxwriterlua.readthedocs.io/example_protection.html #not used in this version\n",
    "\n",
    "'''Data and filename'''\n",
    "# data = df1[~df1.rdmtext.duplicated(keep=False)] # first time save\n",
    "data = df_all[~df_all.rdmtext.duplicated(keep=False)] # drop duplicate open text fields\n",
    "metadata = pd.DataFrame(df1.source.unique()) # list of unique subject ids\n",
    "mysheet = 'coding'\n",
    "metasheet = 'metadata'\n",
    "save_filename = 'text_codes.xlsx'\n",
    "\n",
    "(rows, cols) = data.shape #for column formatting\n",
    "\n",
    "\n",
    "writer = pd.ExcelWriter(save_filename)\n",
    "workbook  = writer.book\n",
    "\n",
    "'''Sheet definition, needs to be in this order to get these in the same order in the Excel sheet'''\n",
    "#coding data\n",
    "data.to_excel(writer,sheet_name=mysheet,index=False)\n",
    "#metadata\n",
    "metadata.to_excel(writer,sheet_name=metasheet,index=False)\n",
    "\n",
    "#setup the coding sheet print area, formatting etc.\n",
    "worksheet = writer.sheets[mysheet]\n",
    "\n",
    "'''page setup for printing'''\n",
    "\n",
    "worksheet.set_landscape()\n",
    "worksheet.repeat_rows(0)\n",
    "worksheet.print_area(0, 0, rows, cols-1)\n",
    "worksheet.fit_to_pages(1, 0)\n",
    "\n",
    "'''header formatting for printing'''\n",
    "\n",
    "header = '&LPage &P of &N' + '&CFilename: &F' + '&RSheetname: &A'\n",
    "footer = '&LCurrent date: &D' + '&RCurrent time: &T'\n",
    "worksheet.set_header(header)\n",
    "worksheet.set_footer(footer)\n",
    "\n",
    "'''column formatting'''\n",
    "\n",
    "wrap_format = workbook.add_format({'text_wrap': True, 'valign': 'top'})\n",
    "\n",
    "worksheet.set_column('A:A', 75, wrap_format) # rdmtext (cols, width, format), wrap when needed\n",
    "worksheet.set_column('B:C', 17) # pain_status--device_comm\n",
    "# this could be done also column by column:\n",
    "# worksheet.set_column('C:C', 17) # subj_status\n",
    "# worksheet.set_column('D:D', 17) # nurse_activity\n",
    "# worksheet.set_column('E:E', 17) # device_status\n",
    "# worksheet.set_column('F:F', 17) # device_comm\n",
    "\n",
    "'''row formatting'''\n",
    "\n",
    "worksheet.freeze_panes(1, 0) #freeze panes\n",
    "worksheet.autofilter(0, 0, rows, cols-1)  # Set filtering to the worksheet (startrow, startcol, endrow, endcol)\n",
    "\n",
    "\n",
    "writer.save()"
   ]
  },
  {
   "cell_type": "code",
   "execution_count": 17,
   "metadata": {},
   "outputs": [
    {
     "data": {
      "text/html": [
       "<div>\n",
       "<style>\n",
       "    .dataframe thead tr:only-child th {\n",
       "        text-align: right;\n",
       "    }\n",
       "\n",
       "    .dataframe thead th {\n",
       "        text-align: left;\n",
       "    }\n",
       "\n",
       "    .dataframe tbody tr th {\n",
       "        vertical-align: top;\n",
       "    }\n",
       "</style>\n",
       "<table border=\"1\" class=\"dataframe\">\n",
       "  <thead>\n",
       "    <tr style=\"text-align: right;\">\n",
       "      <th></th>\n",
       "      <th>rdmtext</th>\n",
       "      <th>source</th>\n",
       "    </tr>\n",
       "  </thead>\n",
       "  <tbody>\n",
       "    <tr>\n",
       "      <th>60</th>\n",
       "      <td>Takaa sekin annat et oikea jo tieda silta.</td>\n",
       "      <td>src01</td>\n",
       "    </tr>\n",
       "    <tr>\n",
       "      <th>89</th>\n",
       "      <td>Takaa sekin annat et oikea jo tieda silta.</td>\n",
       "      <td>scr03</td>\n",
       "    </tr>\n",
       "  </tbody>\n",
       "</table>\n",
       "</div>"
      ],
      "text/plain": [
       "                                       rdmtext source\n",
       "60  Takaa sekin annat et oikea jo tieda silta.  src01\n",
       "89  Takaa sekin annat et oikea jo tieda silta.  scr03"
      ]
     },
     "execution_count": 17,
     "metadata": {},
     "output_type": "execute_result"
    }
   ],
   "source": [
    "# just a check\n",
    "df1.loc[df1.rdmtext=='Takaa sekin annat et oikea jo tieda silta.']"
   ]
  },
  {
   "cell_type": "code",
   "execution_count": 18,
   "metadata": {},
   "outputs": [
    {
     "data": {
      "text/html": [
       "<div>\n",
       "<style>\n",
       "    .dataframe thead tr:only-child th {\n",
       "        text-align: right;\n",
       "    }\n",
       "\n",
       "    .dataframe thead th {\n",
       "        text-align: left;\n",
       "    }\n",
       "\n",
       "    .dataframe tbody tr th {\n",
       "        vertical-align: top;\n",
       "    }\n",
       "</style>\n",
       "<table border=\"1\" class=\"dataframe\">\n",
       "  <thead>\n",
       "    <tr style=\"text-align: right;\">\n",
       "      <th></th>\n",
       "      <th>rdmtext</th>\n",
       "      <th>source</th>\n",
       "    </tr>\n",
       "  </thead>\n",
       "  <tbody>\n",
       "  </tbody>\n",
       "</table>\n",
       "</div>"
      ],
      "text/plain": [
       "Empty DataFrame\n",
       "Columns: [rdmtext, source]\n",
       "Index: []"
      ]
     },
     "execution_count": 18,
     "metadata": {},
     "output_type": "execute_result"
    }
   ],
   "source": [
    "# any nans?\n",
    "df1.loc[df1.source=='nan']"
   ]
  },
  {
   "cell_type": "markdown",
   "metadata": {},
   "source": [
    "# Versions used"
   ]
  },
  {
   "cell_type": "code",
   "execution_count": 19,
   "metadata": {},
   "outputs": [
    {
     "name": "stderr",
     "output_type": "stream",
     "text": [
      "Python 3.6.3 :: Anaconda, Inc.\n"
     ]
    }
   ],
   "source": [
    "!python -V"
   ]
  },
  {
   "cell_type": "code",
   "execution_count": 20,
   "metadata": {},
   "outputs": [
    {
     "name": "stdout",
     "output_type": "stream",
     "text": [
      "pandas 0.20.3\n"
     ]
    }
   ],
   "source": [
    "print ('pandas',pd._version.get_versions()['version'])"
   ]
  }
 ],
 "metadata": {
  "kernelspec": {
   "display_name": "Python 3",
   "language": "python",
   "name": "python3"
  },
  "language_info": {
   "codemirror_mode": {
    "name": "ipython",
    "version": 3
   },
   "file_extension": ".py",
   "mimetype": "text/x-python",
   "name": "python",
   "nbconvert_exporter": "python",
   "pygments_lexer": "ipython3",
   "version": "3.6.3"
  }
 },
 "nbformat": 4,
 "nbformat_minor": 2
}
