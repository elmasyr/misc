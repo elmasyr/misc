{
 "cells": [
  {
   "cell_type": "markdown",
   "metadata": {},
   "source": [
    "To do:\n",
    "\n",
    "- upload tags\n",
    "- upload IBI\n",
    "- merge data"
   ]
  },
  {
   "cell_type": "markdown",
   "metadata": {},
   "source": [
    "Filenames in every zip:\n",
    "- ACC.csv\n",
    "- EDA.csv\n",
    "- BVP.csv\n",
    "- TEMP.csv\n",
    "- IBI.csv\n",
    "- HR.csv\n",
    "- info.txt\n",
    "- tags.csv"
   ]
  },
  {
   "cell_type": "code",
   "execution_count": 1,
   "metadata": {
    "collapsed": true
   },
   "outputs": [],
   "source": [
    "import zipfile\n",
    "import pandas as pd\n",
    "import numpy as np\n",
    "%matplotlib inline"
   ]
  },
  {
   "cell_type": "code",
   "execution_count": 2,
   "metadata": {
    "collapsed": true
   },
   "outputs": [],
   "source": [
    "'''folders'''\n",
    "s_fldr = 'C:/Users/elmasyr/Seafile/mypython/'#source folder\n",
    "a_fldr = 'C:/Users/elmasyr/Seafile/mypython'#analysis folder\n",
    "t_fldr = 'C:/Users/elmasyr/Seafile/mypython' #target folder for the data"
   ]
  },
  {
   "cell_type": "code",
   "execution_count": 3,
   "metadata": {},
   "outputs": [
    {
     "name": "stdout",
     "output_type": "stream",
     "text": [
      "C:/Users/elmasyr/Seafile/mypython//1519129262\n"
     ]
    }
   ],
   "source": [
    "'''Identification of the E4 zip file'''\n",
    "# sid = 'test' #subject id\n",
    "thiszip = '1519129262' #E4 id\n",
    "zippath = s_fldr + '/' + str(thiszip)\n",
    "print (zippath)"
   ]
  },
  {
   "cell_type": "markdown",
   "metadata": {},
   "source": [
    "## Read from zip file"
   ]
  },
  {
   "cell_type": "code",
   "execution_count": 4,
   "metadata": {
    "collapsed": true
   },
   "outputs": [],
   "source": [
    "def readfromzip(zipid, filestr):\n",
    "    filename = str(zipid)+'_A01601.zip' #identification of the device is _A01601\n",
    "    print (filename)\n",
    "    myfile = zipfile.ZipFile(filename, \"r\")\n",
    "    for name in myfile.namelist():\n",
    "        if filestr in name:\n",
    "            print (filestr)\n",
    "            return pd.read_csv(myfile.open(filestr), header=None) "
   ]
  },
  {
   "cell_type": "code",
   "execution_count": 5,
   "metadata": {
    "collapsed": true
   },
   "outputs": [],
   "source": [
    "def fetchfile(thismeas):    \n",
    "    thisdata = thismeas.lower()\n",
    "    thisfile = thismeas+'.csv'    \n",
    "    return readfromzip(zippath, thisfile)"
   ]
  },
  {
   "cell_type": "code",
   "execution_count": 6,
   "metadata": {},
   "outputs": [
    {
     "name": "stdout",
     "output_type": "stream",
     "text": [
      "C:/Users/elmasyr/Seafile/mypython//1519129262_A01601.zip\n",
      "ACC.csv\n",
      "C:/Users/elmasyr/Seafile/mypython//1519129262_A01601.zip\n",
      "EDA.csv\n",
      "C:/Users/elmasyr/Seafile/mypython//1519129262_A01601.zip\n",
      "BVP.csv\n",
      "C:/Users/elmasyr/Seafile/mypython//1519129262_A01601.zip\n",
      "TEMP.csv\n",
      "C:/Users/elmasyr/Seafile/mypython//1519129262_A01601.zip\n",
      "IBI.csv\n",
      "C:/Users/elmasyr/Seafile/mypython//1519129262_A01601.zip\n",
      "HR.csv\n"
     ]
    }
   ],
   "source": [
    "acc = fetchfile('ACC')\n",
    "eda = fetchfile('EDA')\n",
    "bvp = fetchfile('BVP')\n",
    "temp = fetchfile('TEMP')\n",
    "ibi = fetchfile('IBI')\n",
    "hr = fetchfile('HR')"
   ]
  },
  {
   "cell_type": "markdown",
   "metadata": {},
   "source": [
    "## Add timestamps per frequency"
   ]
  },
  {
   "cell_type": "code",
   "execution_count": 7,
   "metadata": {
    "collapsed": true
   },
   "outputs": [],
   "source": [
    "def timestamps(dat):\n",
    "    start = dat.iloc[0,0]\n",
    "    pdstart = pd.to_datetime(start, unit='s')\n",
    "    data = dat.iloc[2:,0]\n",
    "    fs = dat.iloc[1,0] #Hz\n",
    "    period = str(int(round(1000000./fs)))+'U'    #microseconds\n",
    "    return pd.date_range(pdstart, periods=len(data), freq=period)"
   ]
  },
  {
   "cell_type": "markdown",
   "metadata": {},
   "source": [
    "## Merge file and timestamps "
   ]
  },
  {
   "cell_type": "code",
   "execution_count": 8,
   "metadata": {
    "collapsed": true
   },
   "outputs": [],
   "source": [
    "def datatime(data, columns):\n",
    "    timest = timestamps(data)\n",
    "    dfdata = pd.DataFrame(data.loc[2:,0])    \n",
    "    dfdata = dfdata.reset_index(drop=True)\n",
    "    dfdata.columns = columns\n",
    "    dfdata.insert(0, 'time', timest, allow_duplicates=False)\n",
    "    return dfdata"
   ]
  },
  {
   "cell_type": "code",
   "execution_count": 9,
   "metadata": {
    "collapsed": true
   },
   "outputs": [],
   "source": [
    "def accdatatime(data, columns):\n",
    "    timest = timestamps(data)\n",
    "    dfdata = pd.DataFrame(data.iloc[2:,:])    \n",
    "    dfdata = dfdata.reset_index(drop=True)\n",
    "    print (dfdata.shape)\n",
    "    dfdata.columns = columns\n",
    "    dfdata.insert(0, 'time', timest, allow_duplicates=False)\n",
    "    return dfdata"
   ]
  },
  {
   "cell_type": "code",
   "execution_count": 10,
   "metadata": {},
   "outputs": [
    {
     "name": "stdout",
     "output_type": "stream",
     "text": [
      "(4692, 3)\n"
     ]
    }
   ],
   "source": [
    "dfacc = accdatatime(acc, [['accx', 'accy', 'accz']])\n",
    "dfeda = datatime(eda, ['eda'])\n",
    "dfbvp = datatime(bvp, ['bvp'])\n",
    "dftemp = datatime(temp, ['temp'])\n",
    "dfhr = datatime(hr, ['hr'])"
   ]
  },
  {
   "cell_type": "code",
   "execution_count": 11,
   "metadata": {},
   "outputs": [
    {
     "name": "stdout",
     "output_type": "stream",
     "text": [
      "                        time  accx  accy  accz\n",
      "0 2018-02-20 12:21:02.000000 -36.0   5.0  51.0\n",
      "1 2018-02-20 12:21:02.031250 -36.0   6.0  52.0\n",
      "2 2018-02-20 12:21:02.062500 -36.0   5.0  52.0\n",
      "3 2018-02-20 12:21:02.093750 -37.0   6.0  51.0\n",
      "4 2018-02-20 12:21:02.125000 -36.0   6.0  52.0 \n",
      "\n",
      "                      time       eda\n",
      "0 2018-02-20 12:21:02.000  0.000000\n",
      "1 2018-02-20 12:21:02.250  0.832765\n",
      "2 2018-02-20 12:21:02.500  1.089267\n",
      "3 2018-02-20 12:21:02.750  0.933033\n",
      "4 2018-02-20 12:21:03.000  0.925346 \n",
      "\n",
      "                         time  bvp\n",
      "0 2018-02-20 12:21:02.000000 -0.0\n",
      "1 2018-02-20 12:21:02.015625 -0.0\n",
      "2 2018-02-20 12:21:02.031250 -0.0\n",
      "3 2018-02-20 12:21:02.046875 -0.0\n",
      "4 2018-02-20 12:21:02.062500 -0.0 \n",
      "\n",
      "                      time   temp\n",
      "0 2018-02-20 12:21:02.000  30.21\n",
      "1 2018-02-20 12:21:02.250  30.21\n",
      "2 2018-02-20 12:21:02.500  30.21\n",
      "3 2018-02-20 12:21:02.750  30.21\n",
      "4 2018-02-20 12:21:03.000  30.21 \n",
      "\n",
      "                  time     hr\n",
      "0 2018-02-20 12:21:12  52.00\n",
      "1 2018-02-20 12:21:13  52.00\n",
      "2 2018-02-20 12:21:14  56.67\n",
      "3 2018-02-20 12:21:15  56.25\n",
      "4 2018-02-20 12:21:16  64.60\n"
     ]
    }
   ],
   "source": [
    "print (dfacc.head(), ('\\n' * 2), dfeda.head(), ('\\n' * 2), \\\n",
    "dfbvp.head(), ('\\n' * 2), dftemp.head(), \\\n",
    "('\\n' * 2), dfhr.head())"
   ]
  },
  {
   "cell_type": "code",
   "execution_count": 12,
   "metadata": {},
   "outputs": [
    {
     "name": "stdout",
     "output_type": "stream",
     "text": [
      "time    2018-02-20 12:21:02\n",
      "accx                    -44\n",
      "accy                     -7\n",
      "accz                     42\n",
      "dtype: object time    2018-02-20 12:23:28.593750\n",
      "accx                           -18\n",
      "accy                            26\n",
      "accz                            87\n",
      "dtype: object \n",
      "\n",
      " time    2018-02-20 12:21:02\n",
      "eda                       0\n",
      "dtype: object time    2018-02-20 12:23:28.750000\n",
      "eda                        3.07811\n",
      "dtype: object \n",
      "\n",
      " time    2018-02-20 12:21:02\n",
      "bvp                 -549.96\n",
      "dtype: object time    2018-02-20 12:23:28.593750\n",
      "bvp                         296.28\n",
      "dtype: object \n",
      "\n",
      " time    2018-02-20 12:21:02\n",
      "temp                  30.21\n",
      "dtype: object time    2018-02-20 12:23:27.750000\n",
      "temp                         30.83\n",
      "dtype: object \n",
      "\n",
      " time    2018-02-20 12:21:12\n",
      "hr                       52\n",
      "dtype: object time    2018-02-20 12:23:28\n",
      "hr                    74.72\n",
      "dtype: object\n"
     ]
    }
   ],
   "source": [
    "print (dfacc.min(), dfacc.max(), ('\\n' * 2), \\\n",
    "dfeda.min(), dfeda.max(), ('\\n' * 2), \\\n",
    "dfbvp.min(), dfbvp.max(), ('\\n' * 2), \\\n",
    "dftemp.min(), dftemp.max(), ('\\n' * 2), \\\n",
    "dfhr.min(), dfhr.max())"
   ]
  },
  {
   "cell_type": "code",
   "execution_count": 13,
   "metadata": {},
   "outputs": [
    {
     "name": "stdout",
     "output_type": "stream",
     "text": [
      "(4692, 4) \n",
      " (588, 2) \n",
      " (9383, 2) \n",
      " (584, 2) \n",
      " (137, 2)\n"
     ]
    }
   ],
   "source": [
    "print (dfacc.shape, ('\\n'), dfeda.shape, ('\\n'), \\\n",
    "dfbvp.shape, ('\\n'), dftemp.shape, ('\\n'), dfhr.shape)"
   ]
  },
  {
   "cell_type": "code",
   "execution_count": 14,
   "metadata": {
    "collapsed": true
   },
   "outputs": [],
   "source": [
    "'''Save to CSV'''\n",
    "def savecsv(mydf, dataname):\n",
    "    mycsv = t_fldr + '/' + dataname +'.csv'\n",
    "    print (mycsv)\n",
    "    mydf.to_csv(mycsv, sep=',', encoding='utf-8', index=False)"
   ]
  },
  {
   "cell_type": "code",
   "execution_count": 15,
   "metadata": {},
   "outputs": [
    {
     "name": "stdout",
     "output_type": "stream",
     "text": [
      "C:/Users/elmasyr/Seafile/mypython/dfacc.csv\n",
      "C:/Users/elmasyr/Seafile/mypython/dfeda.csv\n",
      "C:/Users/elmasyr/Seafile/mypython/dfbvp.csv\n",
      "C:/Users/elmasyr/Seafile/mypython/dftemp.csv\n",
      "C:/Users/elmasyr/Seafile/mypython/dfhr.csv\n"
     ]
    }
   ],
   "source": [
    "savecsv(dfacc, 'dfacc')\n",
    "savecsv(dfeda, 'dfeda')\n",
    "savecsv(dfbvp, 'dfbvp')\n",
    "savecsv(dftemp, 'dftemp')\n",
    "savecsv(dfhr, 'dfhr')"
   ]
  },
  {
   "cell_type": "code",
   "execution_count": 16,
   "metadata": {},
   "outputs": [
    {
     "data": {
      "image/png": "[encoded data removed]",
      "text/plain": [
       "<matplotlib.figure.Figure at 0x277e9279438>"
      ]
     },
     "metadata": {},
     "output_type": "display_data"
    }
   ],
   "source": [
    "dfacc.plot();"
   ]
  },
  {
   "cell_type": "code",
   "execution_count": 17,
   "metadata": {},
   "outputs": [
    {
     "data": {
      "image/png": "[encoded data removed]",
      "text/plain": [
       "<matplotlib.figure.Figure at 0x277e9290630>"
      ]
     },
     "metadata": {},
     "output_type": "display_data"
    }
   ],
   "source": [
    "dfeda.plot();"
   ]
  },
  {
   "cell_type": "code",
   "execution_count": 18,
   "metadata": {},
   "outputs": [
    {
     "data": {
      "text/plain": [
       "<matplotlib.axes._subplots.AxesSubplot at 0x277e96046d8>"
      ]
     },
     "execution_count": 18,
     "metadata": {},
     "output_type": "execute_result"
    },
    {
     "data": {
      "image/png": "[encoded data removed]",
      "text/plain": [
       "<matplotlib.figure.Figure at 0x277e928a320>"
      ]
     },
     "metadata": {},
     "output_type": "display_data"
    }
   ],
   "source": [
    "dfbvp.plot()"
   ]
  },
  {
   "cell_type": "code",
   "execution_count": 19,
   "metadata": {},
   "outputs": [
    {
     "data": {
      "text/plain": [
       "<matplotlib.axes._subplots.AxesSubplot at 0x277eaa99a90>"
      ]
     },
     "execution_count": 19,
     "metadata": {},
     "output_type": "execute_result"
    },
    {
     "data": {
      "image/png": "[encoded data removed]",
      "text/plain": [
       "<matplotlib.figure.Figure at 0x277e96964a8>"
      ]
     },
     "metadata": {},
     "output_type": "display_data"
    }
   ],
   "source": [
    "dftemp.plot()"
   ]
  },
  {
   "cell_type": "code",
   "execution_count": null,
   "metadata": {
    "collapsed": true
   },
   "outputs": [],
   "source": []
  }
 ],
 "metadata": {
  "kernelspec": {
   "display_name": "Python 3",
   "language": "python",
   "name": "python3"
  },
  "language_info": {
   "codemirror_mode": {
    "name": "ipython",
    "version": 3
   },
   "file_extension": ".py",
   "mimetype": "text/x-python",
   "name": "python",
   "nbconvert_exporter": "python",
   "pygments_lexer": "ipython3",
   "version": "3.6.3"
  }
 },
 "nbformat": 4,
 "nbformat_minor": 2
}
